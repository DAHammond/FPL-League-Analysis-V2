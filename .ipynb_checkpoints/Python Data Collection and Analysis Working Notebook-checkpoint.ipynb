{
 "cells": [
  {
   "cell_type": "code",
   "execution_count": 28,
   "id": "b84ada7f",
   "metadata": {},
   "outputs": [],
   "source": [
    "import requests\n",
    "import pandas as pd\n",
    "import numpy as np\n",
    "import matplotlib\n",
    "import math\n",
    "import seaborn as sb"
   ]
  },
  {
   "cell_type": "code",
   "execution_count": 29,
   "id": "e11c406d",
   "metadata": {},
   "outputs": [],
   "source": [
    "pd.options.display.max_columns = None"
   ]
  },
  {
   "cell_type": "code",
   "execution_count": 54,
   "id": "3a76a9bb",
   "metadata": {},
   "outputs": [
    {
     "name": "stdout",
     "output_type": "stream",
     "text": [
      "Enter the league ID: 414849\n"
     ]
    }
   ],
   "source": [
    "# Get the league ID from the user\n",
    "league_id = input(\"Enter the league ID: \")\n",
    "\n",
    "# Create the URL using an f-string\n",
    "url = f'https://fantasy.premierleague.com/api/leagues-classic/{league_id}/standings/'\n",
    "\n",
    "try:\n",
    "    # Make the request and parse the response as JSON\n",
    "    response = requests.get(url)\n",
    "    response.raise_for_status()  # Check for HTTP request errors\n",
    "    data = response.json()\n",
    "except requests.exceptions.RequestException as e:\n",
    "    print(f\"Request error: {e}\")\n",
    "except requests.exceptions.JSONDecodeError:\n",
    "    print(\"The response is not a valid JSON document.\")"
   ]
  },
  {
   "cell_type": "code",
   "execution_count": 61,
   "id": "fe8edb01",
   "metadata": {},
   "outputs": [
    {
     "name": "stdout",
     "output_type": "stream",
     "text": [
      "Filtered Standings DataFrame:\n",
      "      entry            entry_name  rank      player_name\n",
      "0    296696       The Special One     1      Theo Murray\n",
      "1   2563745        Rice Rice Baby     2      Jack Murray\n",
      "2   3190130               Macleod     3     Andy Macleod\n",
      "3   2118759       The Hucklebucks     4     Simon Daniel\n",
      "4    161957      poor last season     5     Ross Laverty\n",
      "5   2078027       Rashford Fiesta     6  Ritchie Laverty\n",
      "6   2082148   7th place last time     7     Louis Murray\n",
      "7   1562151    MK Munchengladbach     8       Ken Murray\n",
      "8   2077579    Grealish Lightning     9      Iain Murray\n",
      "9   2683089     Super John McGinn    10  Stephen Macleod\n",
      "10  2330200           Change Name    11      Euan Murray\n",
      "11  1636610  We've got Egan-Riley    12   Daniel Macleod\n",
      "12  2710147            Tubeventus    13     John Macleod\n",
      "13  8011260         Cearns Cosmos    14    Gordon Murray\n",
      "14  5642687     Harris St germain    15     John Macleod\n"
     ]
    }
   ],
   "source": [
    "#Extract data for the DataFrame\n",
    "new_entries = data.get('new_entries', {})\n",
    "last_updated_data = data.get('last_updated_data', None)\n",
    "league = data.get('league', {})\n",
    "standings = data.get('standings', {}).get('results', [])\n",
    "\n",
    "# Create DataFrames for each key if they are not empty\n",
    "if new_entries:\n",
    "    df_new_entries = pd.DataFrame(new_entries.get('results', []))\n",
    "else:\n",
    "    df_new_entries = pd.DataFrame()\n",
    "\n",
    "if league:\n",
    "    df_league = pd.DataFrame([league])  # Convert dictionary to a DataFrame with one row\n",
    "else:\n",
    "    df_league = pd.DataFrame()\n",
    "\n",
    "if standings:\n",
    "    df_standings = pd.DataFrame(standings)\n",
    "else:\n",
    "    df_standings = pd.DataFrame()\n",
    "\n",
    "# Extract the columns of interest\n",
    "columns_of_interest = ['entry', 'entry_name', 'rank', 'player_name']\n",
    "df_filtered_standings = df_standings[columns_of_interest]\n",
    "\n",
    "# Display the filtered standings DataFrame\n",
    "print(\"Filtered Standings DataFrame:\")\n",
    "print(df_filtered_standings)"
   ]
  }
 ],
 "metadata": {
  "kernelspec": {
   "display_name": "Python 3 (ipykernel)",
   "language": "python",
   "name": "python3"
  },
  "language_info": {
   "codemirror_mode": {
    "name": "ipython",
    "version": 3
   },
   "file_extension": ".py",
   "mimetype": "text/x-python",
   "name": "python",
   "nbconvert_exporter": "python",
   "pygments_lexer": "ipython3",
   "version": "3.10.9"
  }
 },
 "nbformat": 4,
 "nbformat_minor": 5
}

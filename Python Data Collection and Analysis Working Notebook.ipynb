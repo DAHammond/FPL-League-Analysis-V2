{
 "cells": [
  {
   "cell_type": "code",
   "execution_count": 1,
   "id": "b84ada7f",
   "metadata": {},
   "outputs": [],
   "source": [
    "import requests\n",
    "import pandas as pd\n",
    "import numpy as np\n",
    "import matplotlib\n",
    "import math"
   ]
  },
  {
   "cell_type": "markdown",
   "id": "d460c52d-e523-4459-8687-f4341ad37bb4",
   "metadata": {},
   "source": [
    "# Data Collection and Dataframe Creation"
   ]
  },
  {
   "cell_type": "code",
   "execution_count": 2,
   "id": "e11c406d",
   "metadata": {},
   "outputs": [],
   "source": [
    "pd.options.display.max_columns = None"
   ]
  },
  {
   "cell_type": "code",
   "execution_count": 3,
   "id": "3a76a9bb",
   "metadata": {},
   "outputs": [
    {
     "name": "stdin",
     "output_type": "stream",
     "text": [
      "Enter the league ID:  414849\n"
     ]
    }
   ],
   "source": [
    "# Get the league ID from the user\n",
    "league_id = input(\"Enter the league ID: \")\n",
    "\n",
    "# Create the URL using an f-string\n",
    "url = f'https://fantasy.premierleague.com/api/leagues-classic/{league_id}/standings/'\n",
    "\n",
    "try:\n",
    "    # Make the request and parse the response as JSON\n",
    "    response = requests.get(url)\n",
    "    response.raise_for_status()  # Check for HTTP request errors\n",
    "    data = response.json()\n",
    "except requests.exceptions.RequestException as e:\n",
    "    print(f\"Request error: {e}\")\n",
    "except requests.exceptions.JSONDecodeError:\n",
    "    print(\"The response is not a valid JSON document.\")"
   ]
  },
  {
   "cell_type": "code",
   "execution_count": 4,
   "id": "fe8edb01",
   "metadata": {},
   "outputs": [
    {
     "name": "stdout",
     "output_type": "stream",
     "text": [
      "Filtered Standings DataFrame:\n",
      "      entry            entry_name  rank      player_name\n",
      "0    296696       The Special One     1      Theo Murray\n",
      "1   2563745        Rice Rice Baby     2      Jack Murray\n",
      "2   3190130               Macleod     3     Andy Macleod\n",
      "3   2118759       The Hucklebucks     4     Simon Daniel\n",
      "4    161957      poor last season     5     Ross Laverty\n",
      "5   2078027       Rashford Fiesta     6  Ritchie Laverty\n",
      "6   2082148   7th place last time     7     Louis Murray\n",
      "7   1562151    MK Munchengladbach     8       Ken Murray\n",
      "8   2077579    Grealish Lightning     9      Iain Murray\n",
      "9   2683089     Super John McGinn    10  Stephen Macleod\n",
      "10  2330200           Change Name    11      Euan Murray\n",
      "11  1636610  We've got Egan-Riley    12   Daniel Macleod\n",
      "12  2710147            Tubeventus    13     John Macleod\n",
      "13  8011260         Cearns Cosmos    14    Gordon Murray\n",
      "14  5642687     Harris St germain    15     John Macleod\n"
     ]
    }
   ],
   "source": [
    "#Extract data for the DataFrame\n",
    "new_entries = data.get('new_entries', {})\n",
    "last_updated_data = data.get('last_updated_data', None)\n",
    "league = data.get('league', {})\n",
    "standings = data.get('standings', {}).get('results', [])\n",
    "\n",
    "# Create DataFrames for each key if they are not empty\n",
    "if new_entries:\n",
    "    df_new_entries = pd.DataFrame(new_entries.get('results', []))\n",
    "else:\n",
    "    df_new_entries = pd.DataFrame()\n",
    "\n",
    "if league:\n",
    "    df_league = pd.DataFrame([league])  # Convert dictionary to a DataFrame with one row\n",
    "else:\n",
    "    df_league = pd.DataFrame()\n",
    "\n",
    "if standings:\n",
    "    df_standings = pd.DataFrame(standings)\n",
    "else:\n",
    "    df_standings = pd.DataFrame()\n",
    "\n",
    "# Extract the columns of interest\n",
    "columns_of_interest = ['entry', 'entry_name', 'rank', 'player_name']\n",
    "df_filtered_standings = df_standings[columns_of_interest]\n",
    "\n",
    "# Display the filtered standings DataFrame\n",
    "print(\"Filtered Standings DataFrame:\")\n",
    "print(df_filtered_standings)"
   ]
  },
  {
   "cell_type": "code",
   "execution_count": 5,
   "id": "347b0864-2c0a-4fc8-bf06-dc9c16209907",
   "metadata": {},
   "outputs": [
    {
     "name": "stdout",
     "output_type": "stream",
     "text": [
      "Filtered Team Histories DataFrame:\n",
      "         event  points  total_points  value  points_on_bench\n",
      "entry                                                       \n",
      "296696       1      73            73   1000                6\n",
      "296696       2      40           113   1001               11\n",
      "296696       3      45           158   1006                8\n",
      "296696       4      87           245   1007                4\n",
      "296696       5      64           309   1008                9\n",
      "...        ...     ...           ...    ...              ...\n",
      "5642687     34      62          1514    988                0\n",
      "5642687     35      51          1565    987               10\n",
      "5642687     36      78          1643    987                3\n",
      "5642687     37      81          1724    986                8\n",
      "5642687     38      39          1763    988                1\n",
      "\n",
      "[570 rows x 5 columns]\n"
     ]
    }
   ],
   "source": [
    "# Function to get the history for a given team id\n",
    "def fetch_team_history(team_id):\n",
    "    url = f'https://fantasy.premierleague.com/api/entry/{team_id}/history/'\n",
    "    response = requests.get(url)\n",
    "    response.raise_for_status()  # Check for HTTP request errors\n",
    "    return response.json()\n",
    "\n",
    "# Initialize a list to store the results\n",
    "all_histories = []\n",
    "\n",
    "# Loop through each entry in the filtered standings DataFrame\n",
    "for team_id in df_filtered_standings['entry']:\n",
    "    try:\n",
    "        history_data = fetch_team_history(team_id)\n",
    "        # Flatten the JSON and add the team id for reference\n",
    "        for history in history_data.get('current', []):\n",
    "            history['entry'] = team_id\n",
    "            all_histories.append(history)\n",
    "    except requests.exceptions.RequestException as e:\n",
    "        print(f\"Request error for team id {team_id}: {e}\")\n",
    "\n",
    "# Create a new DataFrame from the collected history data\n",
    "df_team_histories = pd.DataFrame(all_histories)\n",
    "\n",
    "# Extract only the columns of interest\n",
    "columns_of_interest = ['entry', 'event', 'points', 'total_points', 'value', 'points_on_bench']\n",
    "df_team_histories_filtered = df_team_histories[columns_of_interest]\n",
    "\n",
    "# Set 'entry' as the primary key\n",
    "df_team_histories_filtered.set_index('entry', inplace=True)\n",
    "\n",
    "# Display the new DataFrame\n",
    "print(\"Filtered Team Histories DataFrame:\")\n",
    "print(df_team_histories_filtered)"
   ]
  },
  {
   "cell_type": "code",
   "execution_count": 6,
   "id": "0475357f-ba8a-426b-8918-fb81bf00018b",
   "metadata": {},
   "outputs": [
    {
     "name": "stdout",
     "output_type": "stream",
     "text": [
      "League Name: The worst league ever part 2\n"
     ]
    }
   ],
   "source": [
    "# Extracting league name from df_league DataFrame\n",
    "league_name = df_league.loc[0, 'name']\n",
    "\n",
    "# Assign league name to variable 'League Name'\n",
    "League_Name = league_name\n",
    "\n",
    "# Displaying league name\n",
    "print(\"League Name:\", League_Name)"
   ]
  },
  {
   "cell_type": "markdown",
   "id": "9cbdf299-7893-49be-8bce-38eab24a96e5",
   "metadata": {},
   "source": [
    "# Graph Creation"
   ]
  },
  {
   "cell_type": "code",
   "execution_count": null,
   "id": "ae58e826-6690-4730-8812-c79220eb15a0",
   "metadata": {},
   "outputs": [],
   "source": []
  },
  {
   "cell_type": "markdown",
   "id": "d7c2a4a6-6348-4283-a1e6-fba65d3a8905",
   "metadata": {},
   "source": [
    "# PDF Creation"
   ]
  },
  {
   "cell_type": "code",
   "execution_count": 13,
   "id": "f702eb63-93d6-4ae8-abe4-5593d03c462d",
   "metadata": {},
   "outputs": [
    {
     "name": "stdout",
     "output_type": "stream",
     "text": [
      "Defaulting to user installation because normal site-packages is not writeable\n",
      "Collecting reportlab\n",
      "  Downloading reportlab-4.2.0-py3-none-any.whl.metadata (1.4 kB)\n",
      "Requirement already satisfied: pillow>=9.0.0 in /private/var/containers/Bundle/Application/EACE2907-FDE7-4D14-A165-1D57396B5325/Carnets.app/Library/lib/python3.11/site-packages (from reportlab) (10.0.0)\n",
      "Collecting chardet (from reportlab)\n",
      "  Downloading chardet-5.2.0-py3-none-any.whl.metadata (3.4 kB)\n",
      "Downloading reportlab-4.2.0-py3-none-any.whl (1.9 MB)\n",
      "   ━━━━━━━━━━━━━━━━━━━━━━━━━━━━━━━━━━━━━━━━ 1.9/1.9 MB 16.1 MB/s eta 0:00:00\n",
      "Downloading chardet-5.2.0-py3-none-any.whl (199 kB)\n",
      "   ━━━━━━━━━━━━━━━━━━━━━━━━━━━━━━━━━━━━━━━━ 199.4/199.4 kB 21.0 MB/s eta 0:00:00\n",
      "Installing collected packages: chardet, reportlab\n",
      "Successfully installed chardet-5.2.0 reportlab-4.2.0\n",
      "\r"
     ]
    },
    {
     "name": "stderr",
     "output_type": "stream",
     "text": [
      "\n",
      "[notice] A new release of pip is available: 23.3.2 -> 24.0\n",
      "[notice] To update, run: pip install --upgrade pip\n",
      "\r"
     ]
    },
    {
     "name": "stdout",
     "output_type": "stream",
     "text": [
      "Note: you may need to restart the kernel to use updated packages.\n"
     ]
    }
   ],
   "source": [
    "pip install reportlab"
   ]
  },
  {
   "cell_type": "code",
   "execution_count": 7,
   "id": "682ceead-21f7-48ee-b024-a8f7472b3bd9",
   "metadata": {},
   "outputs": [
    {
     "name": "stdout",
     "output_type": "stream",
     "text": [
      "PDF 'The worst league ever part 2.pdf' generated successfully.\n"
     ]
    }
   ],
   "source": [
    "from reportlab.pdfgen import canvas\n",
    "from reportlab.lib.pagesizes import letter\n",
    "from reportlab.lib.styles import ParagraphStyle\n",
    "from reportlab.lib import colors\n",
    "from reportlab.platypus import SimpleDocTemplate, Table, TableStyle, Paragraph\n",
    "import pandas as pd\n",
    "\n",
    "# Function to generate PDF\n",
    "def generate_pdf(league_name, df_filtered_standings, df_team_histories_filtered):\n",
    "    # Set up PDF document\n",
    "    filename = f\"{league_name}.pdf\"\n",
    "    doc = SimpleDocTemplate(filename, pagesize=letter)\n",
    "    story = []\n",
    "\n",
    "    # Title Page\n",
    "    title_style = ParagraphStyle(name='Title', fontSize=18, alignment=1, spaceAfter=30)\n",
    "    subtitle_style = ParagraphStyle(name='Subtitle', fontSize=14, alignment=1)\n",
    "\n",
    "    title_text = \"<br/><br/><br/><br/>Fantasy Premier League Analysis\"\n",
    "    subtitle_text = f\"<br/><br/>{league_name}\"\n",
    "\n",
    "    title_paragraph = Paragraph(title_text, title_style)\n",
    "    subtitle_paragraph = Paragraph(subtitle_text, subtitle_style)\n",
    "\n",
    "    story.append(title_paragraph)\n",
    "    story.append(subtitle_paragraph)\n",
    "    story.append(canvas.Canvas(filename).showPage())\n",
    "\n",
    "    # Table on Second Page\n",
    "    data = []\n",
    "    headers = ['Rank', 'Team Name', 'Total Points']\n",
    "    \n",
    "    # Prepare data for the table\n",
    "    for index, row in df_filtered_standings.iterrows():\n",
    "        team_id = row['entry']\n",
    "        rank = row['rank']\n",
    "        total_points = df_team_histories_filtered.loc[team_id, 'total_points']\n",
    "        team_name = row['entry_name']\n",
    "        \n",
    "        data.append([rank, team_name, total_points])\n",
    "\n",
    "    # Create table\n",
    "    table = Table([headers] + data)\n",
    "    table.setStyle(TableStyle([('BACKGROUND', (0, 0), (-1, 0), colors.gray),\n",
    "                               ('ALIGN', (0, 0), (-1, -1), 'CENTER'),\n",
    "                               ('GRID', (0, 0), (-1, -1), 1, colors.black)])\n",
    "                  )\n",
    "    story.append(table)\n",
    "\n",
    "    # Build PDF document\n",
    "    doc.build(story)\n",
    "    print(f\"PDF '{filename}' generated successfully.\")\n",
    "\n",
    "# Example usage:\n",
    "if __name__ == \"__main__\":\n",
    "    # Assuming df_filtered_standings and df_team_histories_filtered are already defined\n",
    "    \n",
    "    # Fetching League Name\n",
    "    league_name = df_league.loc[0, 'name']\n",
    "\n",
    "    # Generate PDF document\n",
    "    generate_pdf(league_name, df_filtered_standings, df_team_histories_filtered)"
   ]
  },
  {
   "cell_type": "code",
   "execution_count": null,
   "id": "6a492270-4565-4acb-b06a-7cdb1eaed461",
   "metadata": {},
   "outputs": [],
   "source": []
  }
 ],
 "metadata": {
  "kernelspec": {
   "display_name": "Python 3 (ipykernel)",
   "language": "python",
   "name": "python3"
  },
  "language_info": {
   "codemirror_mode": {
    "name": "ipython",
    "version": 3
   },
   "file_extension": ".py",
   "mimetype": "text/x-python",
   "name": "python",
   "nbconvert_exporter": "python",
   "pygments_lexer": "ipython3",
   "version": "3.11.0"
  }
 },
 "nbformat": 4,
 "nbformat_minor": 5
}

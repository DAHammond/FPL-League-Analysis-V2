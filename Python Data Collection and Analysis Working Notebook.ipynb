{
 "cells": [
  {
   "cell_type": "code",
   "execution_count": 1,
   "id": "b84ada7f",
   "metadata": {},
   "outputs": [],
   "source": [
    "import requests\n",
    "import pandas as pd\n",
    "import numpy as np\n",
    "import matplotlib\n",
    "import math"
   ]
  },
  {
   "cell_type": "markdown",
   "id": "d460c52d-e523-4459-8687-f4341ad37bb4",
   "metadata": {},
   "source": [
    "# Data Collection and Dataframe Creation"
   ]
  },
  {
   "cell_type": "code",
   "execution_count": 2,
   "id": "e11c406d",
   "metadata": {},
   "outputs": [],
   "source": [
    "pd.options.display.max_columns = None"
   ]
  },
  {
   "cell_type": "code",
   "execution_count": 23,
   "id": "3a76a9bb",
   "metadata": {},
   "outputs": [],
   "source": [
    "# Get the league ID from the user\n",
    "league_id = input(\"Enter the league ID: \")\n",
    "\n",
    "# Create the URL using an f-string\n",
    "url = f'https://fantasy.premierleague.com/api/leagues-classic/{league_id}/standings/'\n",
    "\n",
    "try:\n",
    "    # Make the request and parse the response as JSON\n",
    "    response = requests.get(url)\n",
    "    response.raise_for_status()  # Check for HTTP request errors\n",
    "    data = response.json()\n",
    "except requests.exceptions.RequestException as e:\n",
    "    print(f\"Request error: {e}\")\n",
    "except requests.exceptions.JSONDecodeError:\n",
    "    print(\"The response is not a valid JSON document.\")"
   ]
  },
  {
   "cell_type": "code",
   "execution_count": 24,
   "id": "fe8edb01",
   "metadata": {},
   "outputs": [
    {
     "name": "stdout",
     "output_type": "stream",
     "text": [
      "Filtered Standings DataFrame:\n",
      "      entry            entry_name  rank      player_name  total\n",
      "0    296696       The Special One     1      Theo Murray   2421\n",
      "1   2563745        Rice Rice Baby     2      Jack Murray   2351\n",
      "2   3190130               Macleod     3     Andy Macleod   2254\n",
      "3   2118759       The Hucklebucks     4     Simon Daniel   2236\n",
      "4    161957      poor last season     5     Ross Laverty   2215\n",
      "5   2078027       Rashford Fiesta     6  Ritchie Laverty   2197\n",
      "6   2082148   7th place last time     7     Louis Murray   2123\n",
      "7   1562151    MK Munchengladbach     8       Ken Murray   2103\n",
      "8   2077579    Grealish Lightning     9      Iain Murray   2094\n",
      "9   2683089     Super John McGinn    10  Stephen Macleod   2093\n",
      "10  2330200           Change Name    11      Euan Murray   2064\n",
      "11  1636610  We've got Egan-Riley    12   Daniel Macleod   2055\n",
      "12  2710147            Tubeventus    13     John Macleod   2003\n",
      "13  8011260         Cearns Cosmos    14    Gordon Murray   1771\n",
      "14  5642687     Harris St germain    15     John Macleod   1763\n"
     ]
    }
   ],
   "source": [
    "#Extract data for the DataFrame\n",
    "new_entries = data.get('new_entries', {})\n",
    "last_updated_data = data.get('last_updated_data', None)\n",
    "league = data.get('league', {})\n",
    "standings = data.get('standings', {}).get('results', [])\n",
    "\n",
    "# Create DataFrames for each key if they are not empty\n",
    "if new_entries:\n",
    "    df_new_entries = pd.DataFrame(new_entries.get('results', []))\n",
    "else:\n",
    "    df_new_entries = pd.DataFrame()\n",
    "\n",
    "if league:\n",
    "    df_league = pd.DataFrame([league])  # Convert dictionary to a DataFrame with one row\n",
    "else:\n",
    "    df_league = pd.DataFrame()\n",
    "\n",
    "if standings:\n",
    "    df_standings = pd.DataFrame(standings)\n",
    "else:\n",
    "    df_standings = pd.DataFrame()\n",
    "\n",
    "# Extract the columns of interest\n",
    "columns_of_interest = ['entry', 'entry_name', 'rank', 'player_name', 'total']\n",
    "df_filtered_standings = df_standings[columns_of_interest]\n",
    "\n",
    "# Display the filtered standings DataFrame\n",
    "print(\"Filtered Standings DataFrame:\")\n",
    "print(df_filtered_standings)"
   ]
  },
  {
   "cell_type": "code",
   "execution_count": 25,
   "id": "347b0864-2c0a-4fc8-bf06-dc9c16209907",
   "metadata": {},
   "outputs": [
    {
     "name": "stdout",
     "output_type": "stream",
     "text": [
      "Filtered Team Histories DataFrame:\n",
      "         event  points  total_points  value  points_on_bench\n",
      "entry                                                       \n",
      "296696       1      73            73   1000                6\n",
      "296696       2      40           113   1001               11\n",
      "296696       3      45           158   1006                8\n",
      "296696       4      87           245   1007                4\n",
      "296696       5      64           309   1008                9\n",
      "...        ...     ...           ...    ...              ...\n",
      "5642687     34      62          1514    988                0\n",
      "5642687     35      51          1565    987               10\n",
      "5642687     36      78          1643    987                3\n",
      "5642687     37      81          1724    986                8\n",
      "5642687     38      39          1763    988                1\n",
      "\n",
      "[570 rows x 5 columns]\n"
     ]
    }
   ],
   "source": [
    "# Function to get the history for a given team id\n",
    "def fetch_team_history(team_id):\n",
    "    url = f'https://fantasy.premierleague.com/api/entry/{team_id}/history/'\n",
    "    response = requests.get(url)\n",
    "    response.raise_for_status()  # Check for HTTP request errors\n",
    "    return response.json()\n",
    "\n",
    "# Initialize a list to store the results\n",
    "all_histories = []\n",
    "\n",
    "# Loop through each entry in the filtered standings DataFrame\n",
    "for team_id in df_filtered_standings['entry']:\n",
    "    try:\n",
    "        history_data = fetch_team_history(team_id)\n",
    "        # Flatten the JSON and add the team id for reference\n",
    "        for history in history_data.get('current', []):\n",
    "            history['entry'] = team_id\n",
    "            all_histories.append(history)\n",
    "    except requests.exceptions.RequestException as e:\n",
    "        print(f\"Request error for team id {team_id}: {e}\")\n",
    "\n",
    "# Create a new DataFrame from the collected history data\n",
    "df_team_histories = pd.DataFrame(all_histories)\n",
    "\n",
    "# Extract only the columns of interest\n",
    "columns_of_interest = ['entry', 'event', 'points', 'total_points', 'value', 'points_on_bench']\n",
    "df_team_histories_filtered = df_team_histories[columns_of_interest]\n",
    "\n",
    "# Set 'entry' as the primary key\n",
    "df_team_histories_filtered.set_index('entry', inplace=True)\n",
    "\n",
    "# Display the new DataFrame\n",
    "print(\"Filtered Team Histories DataFrame:\")\n",
    "print(df_team_histories_filtered)"
   ]
  },
  {
   "cell_type": "code",
   "execution_count": 26,
   "id": "0475357f-ba8a-426b-8918-fb81bf00018b",
   "metadata": {},
   "outputs": [
    {
     "name": "stdout",
     "output_type": "stream",
     "text": [
      "League Name: The worst league ever part 2\n"
     ]
    }
   ],
   "source": [
    "# Extracting league name from df_league DataFrame\n",
    "league_name = df_league.loc[0, 'name']\n",
    "\n",
    "# Assign league name to variable 'League Name'\n",
    "League_Name = league_name\n",
    "\n",
    "# Displaying league name\n",
    "print(\"League Name:\", League_Name)"
   ]
  },
  {
   "cell_type": "markdown",
   "id": "9cbdf299-7893-49be-8bce-38eab24a96e5",
   "metadata": {},
   "source": [
    "# Graph Creation"
   ]
  },
  {
   "cell_type": "code",
   "execution_count": null,
   "id": "ae58e826-6690-4730-8812-c79220eb15a0",
   "metadata": {},
   "outputs": [],
   "source": []
  },
  {
   "cell_type": "markdown",
   "id": "d7c2a4a6-6348-4283-a1e6-fba65d3a8905",
   "metadata": {},
   "source": [
    "# PDF Creation"
   ]
  },
  {
   "cell_type": "code",
   "execution_count": 27,
   "id": "f702eb63-93d6-4ae8-abe4-5593d03c462d",
   "metadata": {},
   "outputs": [
    {
     "name": "stdout",
     "output_type": "stream",
     "text": [
      "Requirement already satisfied: reportlab in c:\\users\\david\\anaconda3\\lib\\site-packages (4.2.0)\n",
      "Requirement already satisfied: chardet in c:\\users\\david\\anaconda3\\lib\\site-packages (from reportlab) (4.0.0)\n",
      "Requirement already satisfied: pillow>=9.0.0 in c:\\users\\david\\anaconda3\\lib\\site-packages (from reportlab) (9.4.0)\n",
      "Note: you may need to restart the kernel to use updated packages.\n"
     ]
    }
   ],
   "source": [
    "pip install reportlab"
   ]
  },
  {
   "cell_type": "code",
   "execution_count": 28,
   "id": "633c532c",
   "metadata": {},
   "outputs": [],
   "source": [
    "from reportlab.lib.pagesizes import letter\n",
    "from reportlab.lib.styles import ParagraphStyle\n",
    "from reportlab.platypus import SimpleDocTemplate, Paragraph, PageBreak, Table, TableStyle\n",
    "from reportlab.lib import colors\n",
    "import pandas as pd\n",
    "\n",
    "# Function to generate PDF\n",
    "def generate_pdf(league_name, df_filtered_standings):\n",
    "    # Set up PDF document\n",
    "    filename = f\"{league_name}.pdf\"\n",
    "    doc = SimpleDocTemplate(filename, pagesize=letter)\n",
    "\n",
    "    # Initialize story and individual pages list\n",
    "    story = []\n",
    "    individual_pages = []\n",
    "\n",
    "    # Title Page\n",
    "    title_style = ParagraphStyle(name='Title', fontSize=18, alignment=1, spaceAfter=30, fontName='Helvetica-Bold')\n",
    "    subtitle_style = ParagraphStyle(name='Subtitle', fontSize=14, alignment=1, spaceAfter=30)\n",
    "\n",
    "    title_text = \"Fantasy Premier League Analysis - Classic League\"\n",
    "    subtitle_text = league_name\n",
    "\n",
    "    title_paragraph = Paragraph(title_text, title_style)\n",
    "    subtitle_paragraph = Paragraph(subtitle_text, subtitle_style)\n",
    "\n",
    "    story.append(title_paragraph)\n",
    "    story.append(subtitle_paragraph)\n",
    "    story.append(PageBreak())\n",
    "\n",
    "    # Prepare data for the table\n",
    "    headers = ['Player Name', 'Entry Name', 'Total']\n",
    "    data = []\n",
    "\n",
    "    for index, row in df_filtered_standings.iterrows():\n",
    "        player_name = row['player_name']\n",
    "        entry_name = row['entry_name']\n",
    "        total = row['total']\n",
    "\n",
    "        # Add data row to table\n",
    "        data.append([player_name, entry_name, total])\n",
    "\n",
    "        # Create individual page for each player\n",
    "        player_key = f\"{player_name} - {entry_name}\"\n",
    "        player_page = [\n",
    "            Paragraph(f\"<br/><br/><br/><br/><br/><br/><br/><br/><br/><br/><br/><br/>{player_key}\", title_style),\n",
    "            PageBreak()\n",
    "        ]\n",
    "        individual_pages.append(player_page)\n",
    "\n",
    "    # Create table\n",
    "    table_data = []\n",
    "    for row in data:\n",
    "        player_name, entry_name, total = row\n",
    "        table_data.append([player_name, entry_name, total])\n",
    "\n",
    "    table = Table([headers] + table_data)\n",
    "    table.setStyle(TableStyle([\n",
    "        ('BACKGROUND', (0, 0), (-1, 0), colors.lightgrey),\n",
    "        ('ALIGN', (0, 0), (-1, -1), 'CENTER'),\n",
    "        ('GRID', (0, 0), (-1, -1), 1, colors.black)\n",
    "    ]))\n",
    "\n",
    "    story.append(table)\n",
    "    story.append(PageBreak())\n",
    "\n",
    "    # Add each individual player's page\n",
    "    for page in individual_pages:\n",
    "        story.extend(page)\n",
    "\n",
    "    # Build PDF document\n",
    "    doc.build(story)\n",
    "\n",
    "# Example usage:\n",
    "if __name__ == \"__main__\":\n",
    "    # Assuming df_filtered_standings and league_name are already defined\n",
    "    generate_pdf(league_name, df_filtered_standings)"
   ]
  },
  {
   "cell_type": "code",
   "execution_count": null,
   "id": "d824e0c7",
   "metadata": {},
   "outputs": [],
   "source": []
  }
 ],
 "metadata": {
  "kernelspec": {
   "display_name": "Python 3 (ipykernel)",
   "language": "python",
   "name": "python3"
  },
  "language_info": {
   "codemirror_mode": {
    "name": "ipython",
    "version": 3
   },
   "file_extension": ".py",
   "mimetype": "text/x-python",
   "name": "python",
   "nbconvert_exporter": "python",
   "pygments_lexer": "ipython3",
   "version": "3.10.9"
  }
 },
 "nbformat": 4,
 "nbformat_minor": 5
}
